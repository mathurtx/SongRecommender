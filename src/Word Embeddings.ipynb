{
 "cells": [
  {
   "cell_type": "code",
   "execution_count": 1,
   "metadata": {
    "collapsed": false
   },
   "outputs": [
    {
     "name": "stderr",
     "output_type": "stream",
     "text": [
      "/Users/mathurtx/tensorflow/lib/python2.7/site-packages/gensim/utils.py:1015: UserWarning: Pattern library is not installed, lemmatization won't be available.\n",
      "  warnings.warn(\"Pattern library is not installed, lemmatization won't be available.\")\n"
     ]
    }
   ],
   "source": [
    "import gensim, logging\n",
    "import pandas as pd\n",
    "logging.basicConfig(format='%(asctime)s : %(levelname)s : %(message)s', level=logging.INFO)"
   ]
  },
  {
   "cell_type": "code",
   "execution_count": 2,
   "metadata": {
    "collapsed": true
   },
   "outputs": [],
   "source": [
    "read_csv = pd.read_csv('data/lastfm-dataset-1K/SongSequenceFor30MinutesSpaceDelimitedv2.csv/part-r-00000-75eb2cb8-ccc1-4118-9886-311798727607.csv', \n",
    "                       header=None)"
   ]
  },
  {
   "cell_type": "code",
   "execution_count": 3,
   "metadata": {
    "collapsed": false
   },
   "outputs": [
    {
     "name": "stderr",
     "output_type": "stream",
     "text": [
      "Skipping line 91094: expected 2 fields, saw 3\n",
      "\n",
      "Skipping line 1257864: expected 2 fields, saw 4\n",
      "\n"
     ]
    }
   ],
   "source": [
    "trackIdName = pd.read_csv('/Users/mathurtx/Documents/machine_learning/data/lastfm-dataset-1K/trackIdTrackNamev2.csv/part-r-00000-a27872ab-ff1e-41e8-a846-a4af3fb0c702.csv', header=None, sep='|',error_bad_lines=False)"
   ]
  },
  {
   "cell_type": "code",
   "execution_count": 4,
   "metadata": {
    "collapsed": false
   },
   "outputs": [],
   "source": [
    "sentences = read_csv[0].apply(lambda x: x.split(' '))"
   ]
  },
  {
   "cell_type": "code",
   "execution_count": 5,
   "metadata": {
    "collapsed": false
   },
   "outputs": [],
   "source": [
    "sentencesList = list(sentences)"
   ]
  },
  {
   "cell_type": "code",
   "execution_count": 6,
   "metadata": {
    "collapsed": false
   },
   "outputs": [],
   "source": [
    "filteredSentencesList = [x for x in sentencesList if len(x) > 1]"
   ]
  },
  {
   "cell_type": "code",
   "execution_count": 7,
   "metadata": {
    "collapsed": false
   },
   "outputs": [
    {
     "name": "stderr",
     "output_type": "stream",
     "text": [
      "2016-12-16 08:47:25,801 : INFO : collecting all words and their counts\n",
      "2016-12-16 08:47:25,802 : INFO : PROGRESS: at sentence #0, processed 0 words, keeping 0 word types\n",
      "2016-12-16 08:47:25,820 : INFO : PROGRESS: at sentence #10000, processed 64047 words, keeping 9058 word types\n",
      "2016-12-16 08:47:25,837 : INFO : PROGRESS: at sentence #20000, processed 116487 words, keeping 19175 word types\n",
      "2016-12-16 08:47:25,867 : INFO : PROGRESS: at sentence #30000, processed 187406 words, keeping 29336 word types\n",
      "2016-12-16 08:47:25,888 : INFO : PROGRESS: at sentence #40000, processed 244058 words, keeping 39085 word types\n",
      "2016-12-16 08:47:25,912 : INFO : PROGRESS: at sentence #50000, processed 301737 words, keeping 48578 word types\n",
      "2016-12-16 08:47:25,939 : INFO : PROGRESS: at sentence #60000, processed 359429 words, keeping 60812 word types\n",
      "2016-12-16 08:47:25,962 : INFO : PROGRESS: at sentence #70000, processed 423365 words, keeping 68763 word types\n",
      "2016-12-16 08:47:25,990 : INFO : PROGRESS: at sentence #80000, processed 491909 words, keeping 73478 word types\n",
      "2016-12-16 08:47:26,019 : INFO : PROGRESS: at sentence #90000, processed 554875 words, keeping 82331 word types\n",
      "2016-12-16 08:47:26,042 : INFO : PROGRESS: at sentence #100000, processed 608865 words, keeping 87759 word types\n",
      "2016-12-16 08:47:26,060 : INFO : PROGRESS: at sentence #110000, processed 660725 words, keeping 96570 word types\n",
      "2016-12-16 08:47:26,095 : INFO : PROGRESS: at sentence #120000, processed 718613 words, keeping 108545 word types\n",
      "2016-12-16 08:47:26,115 : INFO : PROGRESS: at sentence #130000, processed 773174 words, keeping 110987 word types\n",
      "2016-12-16 08:47:26,136 : INFO : PROGRESS: at sentence #140000, processed 829949 words, keeping 116953 word types\n",
      "2016-12-16 08:47:26,156 : INFO : PROGRESS: at sentence #150000, processed 882655 words, keeping 124433 word types\n",
      "2016-12-16 08:47:26,180 : INFO : PROGRESS: at sentence #160000, processed 935576 words, keeping 133832 word types\n",
      "2016-12-16 08:47:26,202 : INFO : PROGRESS: at sentence #170000, processed 988554 words, keeping 144267 word types\n",
      "2016-12-16 08:47:26,225 : INFO : PROGRESS: at sentence #180000, processed 1051189 words, keeping 145781 word types\n",
      "2016-12-16 08:47:26,253 : INFO : PROGRESS: at sentence #190000, processed 1108161 words, keeping 150900 word types\n",
      "2016-12-16 08:47:26,279 : INFO : PROGRESS: at sentence #200000, processed 1162798 words, keeping 161306 word types\n",
      "2016-12-16 08:47:26,301 : INFO : PROGRESS: at sentence #210000, processed 1217432 words, keeping 166111 word types\n",
      "2016-12-16 08:47:26,329 : INFO : PROGRESS: at sentence #220000, processed 1280739 words, keeping 174618 word types\n",
      "2016-12-16 08:47:26,367 : INFO : PROGRESS: at sentence #230000, processed 1343311 words, keeping 176819 word types\n",
      "2016-12-16 08:47:26,390 : INFO : PROGRESS: at sentence #240000, processed 1396080 words, keeping 181758 word types\n",
      "2016-12-16 08:47:26,416 : INFO : PROGRESS: at sentence #250000, processed 1451760 words, keeping 187666 word types\n",
      "2016-12-16 08:47:26,440 : INFO : PROGRESS: at sentence #260000, processed 1506581 words, keeping 194241 word types\n",
      "2016-12-16 08:47:26,460 : INFO : PROGRESS: at sentence #270000, processed 1555138 words, keeping 196699 word types\n",
      "2016-12-16 08:47:26,487 : INFO : PROGRESS: at sentence #280000, processed 1613907 words, keeping 200132 word types\n",
      "2016-12-16 08:47:26,508 : INFO : PROGRESS: at sentence #290000, processed 1664011 words, keeping 202445 word types\n",
      "2016-12-16 08:47:26,535 : INFO : PROGRESS: at sentence #300000, processed 1721857 words, keeping 206781 word types\n",
      "2016-12-16 08:47:26,559 : INFO : PROGRESS: at sentence #310000, processed 1778363 words, keeping 212528 word types\n",
      "2016-12-16 08:47:26,588 : INFO : PROGRESS: at sentence #320000, processed 1840220 words, keeping 220839 word types\n",
      "2016-12-16 08:47:26,617 : INFO : PROGRESS: at sentence #330000, processed 1900224 words, keeping 225854 word types\n",
      "2016-12-16 08:47:26,644 : INFO : PROGRESS: at sentence #340000, processed 1958324 words, keeping 237672 word types\n",
      "2016-12-16 08:47:26,672 : INFO : PROGRESS: at sentence #350000, processed 2013881 words, keeping 245910 word types\n",
      "2016-12-16 08:47:26,695 : INFO : PROGRESS: at sentence #360000, processed 2067226 words, keeping 252030 word types\n",
      "2016-12-16 08:47:26,724 : INFO : PROGRESS: at sentence #370000, processed 2123451 words, keeping 257019 word types\n",
      "2016-12-16 08:47:26,745 : INFO : PROGRESS: at sentence #380000, processed 2175701 words, keeping 259033 word types\n",
      "2016-12-16 08:47:26,766 : INFO : PROGRESS: at sentence #390000, processed 2235250 words, keeping 260994 word types\n",
      "2016-12-16 08:47:26,794 : INFO : PROGRESS: at sentence #400000, processed 2291868 words, keeping 264059 word types\n",
      "2016-12-16 08:47:26,819 : INFO : PROGRESS: at sentence #410000, processed 2343755 words, keeping 267731 word types\n",
      "2016-12-16 08:47:26,845 : INFO : PROGRESS: at sentence #420000, processed 2395381 words, keeping 272013 word types\n",
      "2016-12-16 08:47:26,874 : INFO : PROGRESS: at sentence #430000, processed 2449605 words, keeping 280210 word types\n",
      "2016-12-16 08:47:26,897 : INFO : PROGRESS: at sentence #440000, processed 2504011 words, keeping 282498 word types\n",
      "2016-12-16 08:47:26,919 : INFO : PROGRESS: at sentence #450000, processed 2557455 words, keeping 283637 word types\n",
      "2016-12-16 08:47:26,944 : INFO : PROGRESS: at sentence #460000, processed 2611590 words, keeping 287069 word types\n",
      "2016-12-16 08:47:26,970 : INFO : PROGRESS: at sentence #470000, processed 2669946 words, keeping 289100 word types\n",
      "2016-12-16 08:47:27,001 : INFO : PROGRESS: at sentence #480000, processed 2739464 words, keeping 292337 word types\n",
      "2016-12-16 08:47:27,029 : INFO : PROGRESS: at sentence #490000, processed 2793078 words, keeping 296826 word types\n",
      "2016-12-16 08:47:27,059 : INFO : PROGRESS: at sentence #500000, processed 2860562 words, keeping 297574 word types\n",
      "2016-12-16 08:47:27,087 : INFO : PROGRESS: at sentence #510000, processed 2925078 words, keeping 300001 word types\n",
      "2016-12-16 08:47:27,117 : INFO : PROGRESS: at sentence #520000, processed 2982515 words, keeping 302882 word types\n",
      "2016-12-16 08:47:27,142 : INFO : PROGRESS: at sentence #530000, processed 3037998 words, keeping 305744 word types\n",
      "2016-12-16 08:47:27,173 : INFO : PROGRESS: at sentence #540000, processed 3097496 words, keeping 317291 word types\n",
      "2016-12-16 08:47:27,198 : INFO : PROGRESS: at sentence #550000, processed 3150347 words, keeping 320333 word types\n",
      "2016-12-16 08:47:27,221 : INFO : PROGRESS: at sentence #560000, processed 3202187 words, keeping 326886 word types\n",
      "2016-12-16 08:47:27,249 : INFO : PROGRESS: at sentence #570000, processed 3257993 words, keeping 334302 word types\n",
      "2016-12-16 08:47:27,277 : INFO : PROGRESS: at sentence #580000, processed 3318598 words, keeping 335849 word types\n",
      "2016-12-16 08:47:27,304 : INFO : PROGRESS: at sentence #590000, processed 3369216 words, keeping 341499 word types\n",
      "2016-12-16 08:47:27,332 : INFO : PROGRESS: at sentence #600000, processed 3417951 words, keeping 344775 word types\n",
      "2016-12-16 08:47:27,377 : INFO : PROGRESS: at sentence #610000, processed 3471872 words, keeping 350967 word types\n",
      "2016-12-16 08:47:27,405 : INFO : PROGRESS: at sentence #620000, processed 3542163 words, keeping 354983 word types\n",
      "2016-12-16 08:47:27,435 : INFO : PROGRESS: at sentence #630000, processed 3609143 words, keeping 358270 word types\n",
      "2016-12-16 08:47:27,462 : INFO : PROGRESS: at sentence #640000, processed 3672301 words, keeping 359532 word types\n",
      "2016-12-16 08:47:27,491 : INFO : PROGRESS: at sentence #650000, processed 3731368 words, keeping 362024 word types\n",
      "2016-12-16 08:47:27,518 : INFO : PROGRESS: at sentence #660000, processed 3779363 words, keeping 367341 word types\n",
      "2016-12-16 08:47:27,547 : INFO : PROGRESS: at sentence #670000, processed 3831130 words, keeping 377911 word types\n",
      "2016-12-16 08:47:27,576 : INFO : PROGRESS: at sentence #680000, processed 3888876 words, keeping 382017 word types\n",
      "2016-12-16 08:47:27,606 : INFO : PROGRESS: at sentence #690000, processed 3945246 words, keeping 387207 word types\n",
      "2016-12-16 08:47:27,637 : INFO : PROGRESS: at sentence #700000, processed 3998955 words, keeping 395194 word types\n",
      "2016-12-16 08:47:27,668 : INFO : PROGRESS: at sentence #710000, processed 4051162 words, keeping 398554 word types\n",
      "2016-12-16 08:47:27,698 : INFO : PROGRESS: at sentence #720000, processed 4104095 words, keeping 401768 word types\n",
      "2016-12-16 08:47:27,729 : INFO : PROGRESS: at sentence #730000, processed 4164370 words, keeping 404571 word types\n",
      "2016-12-16 08:47:27,761 : INFO : PROGRESS: at sentence #740000, processed 4220134 words, keeping 407001 word types\n",
      "2016-12-16 08:47:27,794 : INFO : PROGRESS: at sentence #750000, processed 4268705 words, keeping 409833 word types\n",
      "2016-12-16 08:47:27,831 : INFO : PROGRESS: at sentence #760000, processed 4331129 words, keeping 412705 word types\n",
      "2016-12-16 08:47:27,866 : INFO : PROGRESS: at sentence #770000, processed 4390310 words, keeping 414863 word types\n",
      "2016-12-16 08:47:27,896 : INFO : PROGRESS: at sentence #780000, processed 4443352 words, keeping 417443 word types\n",
      "2016-12-16 08:47:27,926 : INFO : PROGRESS: at sentence #790000, processed 4505935 words, keeping 418713 word types\n",
      "2016-12-16 08:47:27,957 : INFO : PROGRESS: at sentence #800000, processed 4566593 words, keeping 421171 word types\n",
      "2016-12-16 08:47:27,992 : INFO : PROGRESS: at sentence #810000, processed 4633890 words, keeping 424321 word types\n",
      "2016-12-16 08:47:28,026 : INFO : PROGRESS: at sentence #820000, processed 4694347 words, keeping 428821 word types\n",
      "2016-12-16 08:47:28,054 : INFO : PROGRESS: at sentence #830000, processed 4749250 words, keeping 429343 word types\n",
      "2016-12-16 08:47:28,087 : INFO : PROGRESS: at sentence #840000, processed 4807233 words, keeping 431058 word types\n",
      "2016-12-16 08:47:28,121 : INFO : PROGRESS: at sentence #850000, processed 4865510 words, keeping 432389 word types\n",
      "2016-12-16 08:47:28,149 : INFO : PROGRESS: at sentence #860000, processed 4925255 words, keeping 435253 word types\n",
      "2016-12-16 08:47:28,181 : INFO : PROGRESS: at sentence #870000, processed 4987331 words, keeping 437738 word types\n",
      "2016-12-16 08:47:28,213 : INFO : PROGRESS: at sentence #880000, processed 5039899 words, keeping 442579 word types\n",
      "2016-12-16 08:47:28,244 : INFO : PROGRESS: at sentence #890000, processed 5093545 words, keeping 445458 word types\n",
      "2016-12-16 08:47:28,271 : INFO : PROGRESS: at sentence #900000, processed 5149143 words, keeping 447371 word types\n",
      "2016-12-16 08:47:28,304 : INFO : PROGRESS: at sentence #910000, processed 5206267 words, keeping 449035 word types\n",
      "2016-12-16 08:47:28,338 : INFO : PROGRESS: at sentence #920000, processed 5257476 words, keeping 451988 word types\n",
      "2016-12-16 08:47:28,371 : INFO : PROGRESS: at sentence #930000, processed 5322663 words, keeping 453103 word types\n",
      "2016-12-16 08:47:28,407 : INFO : PROGRESS: at sentence #940000, processed 5378658 words, keeping 456005 word types\n",
      "2016-12-16 08:47:28,447 : INFO : PROGRESS: at sentence #950000, processed 5432747 words, keeping 458955 word types\n",
      "2016-12-16 08:47:28,474 : INFO : PROGRESS: at sentence #960000, processed 5492808 words, keeping 461176 word types\n",
      "2016-12-16 08:47:28,521 : INFO : PROGRESS: at sentence #970000, processed 5557892 words, keeping 466698 word types\n",
      "2016-12-16 08:47:28,555 : INFO : PROGRESS: at sentence #980000, processed 5609256 words, keeping 475523 word types\n",
      "2016-12-16 08:47:28,593 : INFO : PROGRESS: at sentence #990000, processed 5666260 words, keeping 483257 word types\n",
      "2016-12-16 08:47:28,625 : INFO : PROGRESS: at sentence #1000000, processed 5724386 words, keeping 486425 word types\n",
      "2016-12-16 08:47:28,659 : INFO : PROGRESS: at sentence #1010000, processed 5786535 words, keeping 487900 word types\n",
      "2016-12-16 08:47:28,691 : INFO : PROGRESS: at sentence #1020000, processed 5842311 words, keeping 489757 word types\n",
      "2016-12-16 08:47:28,728 : INFO : PROGRESS: at sentence #1030000, processed 5895692 words, keeping 495747 word types\n",
      "2016-12-16 08:47:28,757 : INFO : PROGRESS: at sentence #1040000, processed 5956377 words, keeping 499754 word types\n",
      "2016-12-16 08:47:28,793 : INFO : PROGRESS: at sentence #1050000, processed 6019662 words, keeping 503314 word types\n",
      "2016-12-16 08:47:28,821 : INFO : PROGRESS: at sentence #1060000, processed 6075680 words, keeping 504382 word types\n",
      "2016-12-16 08:47:28,850 : INFO : PROGRESS: at sentence #1070000, processed 6126672 words, keeping 506139 word types\n",
      "2016-12-16 08:47:28,881 : INFO : PROGRESS: at sentence #1080000, processed 6180856 words, keeping 507548 word types\n",
      "2016-12-16 08:47:28,912 : INFO : PROGRESS: at sentence #1090000, processed 6235874 words, keeping 509657 word types\n",
      "2016-12-16 08:47:28,945 : INFO : PROGRESS: at sentence #1100000, processed 6288268 words, keeping 513772 word types\n",
      "2016-12-16 08:47:28,977 : INFO : PROGRESS: at sentence #1110000, processed 6342827 words, keeping 516304 word types\n",
      "2016-12-16 08:47:29,014 : INFO : PROGRESS: at sentence #1120000, processed 6401114 words, keeping 521574 word types\n",
      "2016-12-16 08:47:29,045 : INFO : PROGRESS: at sentence #1130000, processed 6459436 words, keeping 523627 word types\n",
      "2016-12-16 08:47:29,075 : INFO : PROGRESS: at sentence #1140000, processed 6512538 words, keeping 525916 word types\n",
      "2016-12-16 08:47:29,106 : INFO : PROGRESS: at sentence #1150000, processed 6567152 words, keeping 530732 word types\n",
      "2016-12-16 08:47:29,139 : INFO : PROGRESS: at sentence #1160000, processed 6626189 words, keeping 533953 word types\n",
      "2016-12-16 08:47:29,168 : INFO : PROGRESS: at sentence #1170000, processed 6680483 words, keeping 535930 word types\n",
      "2016-12-16 08:47:29,199 : INFO : PROGRESS: at sentence #1180000, processed 6731165 words, keeping 540637 word types\n",
      "2016-12-16 08:47:29,234 : INFO : PROGRESS: at sentence #1190000, processed 6781985 words, keeping 543754 word types\n",
      "2016-12-16 08:47:29,266 : INFO : PROGRESS: at sentence #1200000, processed 6830536 words, keeping 547257 word types\n",
      "2016-12-16 08:47:29,295 : INFO : PROGRESS: at sentence #1210000, processed 6884184 words, keeping 549630 word types\n",
      "2016-12-16 08:47:29,330 : INFO : PROGRESS: at sentence #1220000, processed 6940674 words, keeping 553368 word types\n",
      "2016-12-16 08:47:29,361 : INFO : PROGRESS: at sentence #1230000, processed 6992768 words, keeping 554624 word types\n",
      "2016-12-16 08:47:29,394 : INFO : PROGRESS: at sentence #1240000, processed 7040506 words, keeping 558754 word types\n",
      "2016-12-16 08:47:29,424 : INFO : PROGRESS: at sentence #1250000, processed 7099203 words, keeping 562322 word types\n",
      "2016-12-16 08:47:29,457 : INFO : PROGRESS: at sentence #1260000, processed 7158586 words, keeping 563471 word types\n",
      "2016-12-16 08:47:29,489 : INFO : PROGRESS: at sentence #1270000, processed 7207915 words, keeping 566432 word types\n",
      "2016-12-16 08:47:29,525 : INFO : PROGRESS: at sentence #1280000, processed 7271872 words, keeping 573113 word types\n",
      "2016-12-16 08:47:29,555 : INFO : PROGRESS: at sentence #1290000, processed 7331265 words, keeping 579112 word types\n",
      "2016-12-16 08:47:29,584 : INFO : PROGRESS: at sentence #1300000, processed 7383174 words, keeping 583581 word types\n",
      "2016-12-16 08:47:29,617 : INFO : PROGRESS: at sentence #1310000, processed 7436134 words, keeping 584568 word types\n",
      "2016-12-16 08:47:29,645 : INFO : PROGRESS: at sentence #1320000, processed 7491409 words, keeping 586078 word types\n",
      "2016-12-16 08:47:29,674 : INFO : PROGRESS: at sentence #1330000, processed 7545945 words, keeping 588721 word types\n",
      "2016-12-16 08:47:29,701 : INFO : PROGRESS: at sentence #1340000, processed 7605097 words, keeping 591105 word types\n",
      "2016-12-16 08:47:29,731 : INFO : PROGRESS: at sentence #1350000, processed 7666116 words, keeping 593735 word types\n",
      "2016-12-16 08:47:29,763 : INFO : PROGRESS: at sentence #1360000, processed 7729656 words, keeping 597355 word types\n",
      "2016-12-16 08:47:29,790 : INFO : PROGRESS: at sentence #1370000, processed 7782886 words, keeping 600196 word types\n",
      "2016-12-16 08:47:29,815 : INFO : PROGRESS: at sentence #1380000, processed 7834827 words, keeping 602044 word types\n",
      "2016-12-16 08:47:29,841 : INFO : PROGRESS: at sentence #1390000, processed 7893439 words, keeping 604352 word types\n",
      "2016-12-16 08:47:29,868 : INFO : PROGRESS: at sentence #1400000, processed 7941724 words, keeping 607443 word types\n",
      "2016-12-16 08:47:29,899 : INFO : PROGRESS: at sentence #1410000, processed 7990980 words, keeping 611256 word types\n",
      "2016-12-16 08:47:29,932 : INFO : PROGRESS: at sentence #1420000, processed 8044433 words, keeping 615425 word types\n",
      "2016-12-16 08:47:29,964 : INFO : PROGRESS: at sentence #1430000, processed 8104050 words, keeping 619365 word types\n",
      "2016-12-16 08:47:29,995 : INFO : PROGRESS: at sentence #1440000, processed 8170588 words, keeping 620007 word types\n",
      "2016-12-16 08:47:30,027 : INFO : PROGRESS: at sentence #1450000, processed 8223776 words, keeping 625369 word types\n",
      "2016-12-16 08:47:30,055 : INFO : PROGRESS: at sentence #1460000, processed 8287992 words, keeping 626899 word types\n",
      "2016-12-16 08:47:30,082 : INFO : PROGRESS: at sentence #1470000, processed 8338981 words, keeping 628027 word types\n",
      "2016-12-16 08:47:30,111 : INFO : PROGRESS: at sentence #1480000, processed 8396725 words, keeping 629294 word types\n",
      "2016-12-16 08:47:30,145 : INFO : PROGRESS: at sentence #1490000, processed 8457208 words, keeping 631963 word types\n",
      "2016-12-16 08:47:30,175 : INFO : PROGRESS: at sentence #1500000, processed 8515680 words, keeping 633484 word types\n",
      "2016-12-16 08:47:30,202 : INFO : PROGRESS: at sentence #1510000, processed 8568763 words, keeping 635312 word types\n",
      "2016-12-16 08:47:30,233 : INFO : PROGRESS: at sentence #1520000, processed 8627821 words, keeping 636641 word types\n",
      "2016-12-16 08:47:30,264 : INFO : PROGRESS: at sentence #1530000, processed 8688498 words, keeping 638059 word types\n",
      "2016-12-16 08:47:30,296 : INFO : PROGRESS: at sentence #1540000, processed 8747311 words, keeping 640683 word types\n",
      "2016-12-16 08:47:30,321 : INFO : PROGRESS: at sentence #1550000, processed 8803823 words, keeping 641498 word types\n",
      "2016-12-16 08:47:30,348 : INFO : PROGRESS: at sentence #1560000, processed 8857740 words, keeping 642630 word types\n",
      "2016-12-16 08:47:30,374 : INFO : PROGRESS: at sentence #1570000, processed 8912793 words, keeping 645439 word types\n",
      "2016-12-16 08:47:30,405 : INFO : PROGRESS: at sentence #1580000, processed 8979340 words, keeping 647181 word types\n",
      "2016-12-16 08:47:30,436 : INFO : PROGRESS: at sentence #1590000, processed 9039347 words, keeping 648544 word types\n",
      "2016-12-16 08:47:30,464 : INFO : PROGRESS: at sentence #1600000, processed 9093366 words, keeping 650243 word types\n",
      "2016-12-16 08:47:30,489 : INFO : PROGRESS: at sentence #1610000, processed 9152434 words, keeping 652145 word types\n",
      "2016-12-16 08:47:30,519 : INFO : PROGRESS: at sentence #1620000, processed 9211644 words, keeping 654664 word types\n",
      "2016-12-16 08:47:30,554 : INFO : PROGRESS: at sentence #1630000, processed 9279515 words, keeping 655936 word types\n",
      "2016-12-16 08:47:30,595 : INFO : PROGRESS: at sentence #1640000, processed 9357850 words, keeping 656886 word types\n",
      "2016-12-16 08:47:30,641 : INFO : PROGRESS: at sentence #1650000, processed 9424976 words, keeping 658933 word types\n",
      "2016-12-16 08:47:30,666 : INFO : PROGRESS: at sentence #1660000, processed 9478025 words, keeping 660610 word types\n",
      "2016-12-16 08:47:30,693 : INFO : PROGRESS: at sentence #1670000, processed 9532686 words, keeping 662292 word types\n",
      "2016-12-16 08:47:30,723 : INFO : PROGRESS: at sentence #1680000, processed 9586355 words, keeping 664701 word types\n",
      "2016-12-16 08:47:30,753 : INFO : PROGRESS: at sentence #1690000, processed 9647909 words, keeping 666454 word types\n",
      "2016-12-16 08:47:30,783 : INFO : PROGRESS: at sentence #1700000, processed 9703990 words, keeping 667620 word types\n",
      "2016-12-16 08:47:30,814 : INFO : PROGRESS: at sentence #1710000, processed 9753828 words, keeping 672516 word types\n",
      "2016-12-16 08:47:30,841 : INFO : PROGRESS: at sentence #1720000, processed 9807823 words, keeping 673878 word types\n",
      "2016-12-16 08:47:30,874 : INFO : PROGRESS: at sentence #1730000, processed 9864133 words, keeping 675100 word types\n",
      "2016-12-16 08:47:30,906 : INFO : PROGRESS: at sentence #1740000, processed 9923753 words, keeping 677568 word types\n",
      "2016-12-16 08:47:30,933 : INFO : PROGRESS: at sentence #1750000, processed 9974737 words, keeping 680521 word types\n",
      "2016-12-16 08:47:30,960 : INFO : PROGRESS: at sentence #1760000, processed 10027456 words, keeping 681674 word types\n",
      "2016-12-16 08:47:30,987 : INFO : PROGRESS: at sentence #1770000, processed 10085690 words, keeping 683047 word types\n",
      "2016-12-16 08:47:31,015 : INFO : PROGRESS: at sentence #1780000, processed 10140990 words, keeping 685943 word types\n",
      "2016-12-16 08:47:31,047 : INFO : PROGRESS: at sentence #1790000, processed 10203062 words, keeping 686766 word types\n",
      "2016-12-16 08:47:31,081 : INFO : PROGRESS: at sentence #1800000, processed 10264063 words, keeping 688115 word types\n",
      "2016-12-16 08:47:31,109 : INFO : PROGRESS: at sentence #1810000, processed 10319108 words, keeping 690371 word types\n",
      "2016-12-16 08:47:31,139 : INFO : PROGRESS: at sentence #1820000, processed 10378739 words, keeping 694320 word types\n",
      "2016-12-16 08:47:31,172 : INFO : PROGRESS: at sentence #1830000, processed 10430523 words, keeping 695882 word types\n",
      "2016-12-16 08:47:31,198 : INFO : PROGRESS: at sentence #1840000, processed 10481642 words, keeping 696911 word types\n",
      "2016-12-16 08:47:31,279 : INFO : PROGRESS: at sentence #1850000, processed 10536170 words, keeping 699718 word types\n",
      "2016-12-16 08:47:31,315 : INFO : PROGRESS: at sentence #1860000, processed 10586810 words, keeping 701261 word types\n",
      "2016-12-16 08:47:31,348 : INFO : PROGRESS: at sentence #1870000, processed 10631070 words, keeping 702351 word types\n",
      "2016-12-16 08:47:31,385 : INFO : PROGRESS: at sentence #1880000, processed 10692075 words, keeping 704254 word types\n",
      "2016-12-16 08:47:31,422 : INFO : PROGRESS: at sentence #1890000, processed 10749702 words, keeping 706877 word types\n",
      "2016-12-16 08:47:31,459 : INFO : PROGRESS: at sentence #1900000, processed 10802551 words, keeping 709608 word types\n",
      "2016-12-16 08:47:31,501 : INFO : PROGRESS: at sentence #1910000, processed 10860420 words, keeping 713007 word types\n",
      "2016-12-16 08:47:31,543 : INFO : PROGRESS: at sentence #1920000, processed 10924935 words, keeping 714773 word types\n",
      "2016-12-16 08:47:31,583 : INFO : PROGRESS: at sentence #1930000, processed 10990391 words, keeping 716112 word types\n",
      "2016-12-16 08:47:31,619 : INFO : PROGRESS: at sentence #1940000, processed 11056350 words, keeping 716524 word types\n",
      "2016-12-16 08:47:31,655 : INFO : PROGRESS: at sentence #1950000, processed 11115388 words, keeping 721518 word types\n",
      "2016-12-16 08:47:31,688 : INFO : PROGRESS: at sentence #1960000, processed 11170735 words, keeping 724058 word types\n",
      "2016-12-16 08:47:31,722 : INFO : PROGRESS: at sentence #1970000, processed 11226182 words, keeping 725993 word types\n",
      "2016-12-16 08:47:31,757 : INFO : PROGRESS: at sentence #1980000, processed 11289111 words, keeping 727480 word types\n",
      "2016-12-16 08:47:31,787 : INFO : PROGRESS: at sentence #1990000, processed 11343087 words, keeping 728778 word types\n",
      "2016-12-16 08:47:31,820 : INFO : PROGRESS: at sentence #2000000, processed 11404825 words, keeping 730957 word types\n",
      "2016-12-16 08:47:31,863 : INFO : PROGRESS: at sentence #2010000, processed 11470285 words, keeping 745701 word types\n",
      "2016-12-16 08:47:31,903 : INFO : PROGRESS: at sentence #2020000, processed 11537785 words, keeping 747091 word types\n",
      "2016-12-16 08:47:31,938 : INFO : PROGRESS: at sentence #2030000, processed 11589556 words, keeping 749058 word types\n",
      "2016-12-16 08:47:31,975 : INFO : PROGRESS: at sentence #2040000, processed 11647759 words, keeping 752497 word types\n",
      "2016-12-16 08:47:32,027 : INFO : PROGRESS: at sentence #2050000, processed 11716699 words, keeping 760429 word types\n",
      "2016-12-16 08:47:32,077 : INFO : PROGRESS: at sentence #2060000, processed 11788702 words, keeping 765907 word types\n",
      "2016-12-16 08:47:32,125 : INFO : PROGRESS: at sentence #2070000, processed 11844748 words, keeping 768740 word types\n",
      "2016-12-16 08:47:32,171 : INFO : PROGRESS: at sentence #2080000, processed 11900671 words, keeping 770622 word types\n",
      "2016-12-16 08:47:32,208 : INFO : PROGRESS: at sentence #2090000, processed 11958836 words, keeping 773604 word types\n",
      "2016-12-16 08:47:32,246 : INFO : PROGRESS: at sentence #2100000, processed 12006737 words, keeping 775898 word types\n",
      "2016-12-16 08:47:32,288 : INFO : PROGRESS: at sentence #2110000, processed 12061900 words, keeping 781227 word types\n",
      "2016-12-16 08:47:32,325 : INFO : PROGRESS: at sentence #2120000, processed 12113838 words, keeping 782616 word types\n",
      "2016-12-16 08:47:32,365 : INFO : PROGRESS: at sentence #2130000, processed 12164119 words, keeping 783684 word types\n",
      "2016-12-16 08:47:32,408 : INFO : PROGRESS: at sentence #2140000, processed 12235695 words, keeping 785873 word types\n",
      "2016-12-16 08:47:32,447 : INFO : PROGRESS: at sentence #2150000, processed 12292737 words, keeping 786607 word types\n",
      "2016-12-16 08:47:32,482 : INFO : PROGRESS: at sentence #2160000, processed 12344203 words, keeping 787986 word types\n",
      "2016-12-16 08:47:32,524 : INFO : PROGRESS: at sentence #2170000, processed 12400228 words, keeping 790241 word types\n",
      "2016-12-16 08:47:32,566 : INFO : PROGRESS: at sentence #2180000, processed 12457652 words, keeping 791748 word types\n",
      "2016-12-16 08:47:32,603 : INFO : PROGRESS: at sentence #2190000, processed 12510454 words, keeping 794032 word types\n",
      "2016-12-16 08:47:32,641 : INFO : PROGRESS: at sentence #2200000, processed 12568988 words, keeping 796067 word types\n",
      "2016-12-16 08:47:32,680 : INFO : PROGRESS: at sentence #2210000, processed 12624722 words, keeping 797979 word types\n",
      "2016-12-16 08:47:32,719 : INFO : PROGRESS: at sentence #2220000, processed 12677254 words, keeping 800654 word types\n",
      "2016-12-16 08:47:32,760 : INFO : PROGRESS: at sentence #2230000, processed 12729343 words, keeping 803287 word types\n",
      "2016-12-16 08:47:32,797 : INFO : PROGRESS: at sentence #2240000, processed 12789144 words, keeping 805853 word types\n",
      "2016-12-16 08:47:32,835 : INFO : PROGRESS: at sentence #2250000, processed 12838496 words, keeping 810565 word types\n",
      "2016-12-16 08:47:32,876 : INFO : PROGRESS: at sentence #2260000, processed 12892891 words, keeping 813142 word types\n",
      "2016-12-16 08:47:32,910 : INFO : PROGRESS: at sentence #2270000, processed 12944303 words, keeping 814895 word types\n",
      "2016-12-16 08:47:32,949 : INFO : PROGRESS: at sentence #2280000, processed 13001136 words, keeping 816802 word types\n",
      "2016-12-16 08:47:32,991 : INFO : PROGRESS: at sentence #2290000, processed 13058304 words, keeping 817685 word types\n",
      "2016-12-16 08:47:33,032 : INFO : PROGRESS: at sentence #2300000, processed 13116346 words, keeping 818879 word types\n",
      "2016-12-16 08:47:33,074 : INFO : PROGRESS: at sentence #2310000, processed 13188458 words, keeping 824085 word types\n",
      "2016-12-16 08:47:33,118 : INFO : PROGRESS: at sentence #2320000, processed 13240632 words, keeping 826149 word types\n",
      "2016-12-16 08:47:33,152 : INFO : PROGRESS: at sentence #2330000, processed 13293691 words, keeping 828481 word types\n",
      "2016-12-16 08:47:33,191 : INFO : PROGRESS: at sentence #2340000, processed 13353252 words, keeping 830072 word types\n",
      "2016-12-16 08:47:33,233 : INFO : PROGRESS: at sentence #2350000, processed 13405682 words, keeping 834187 word types\n",
      "2016-12-16 08:47:33,270 : INFO : PROGRESS: at sentence #2360000, processed 13471766 words, keeping 835329 word types\n",
      "2016-12-16 08:47:33,312 : INFO : PROGRESS: at sentence #2370000, processed 13531379 words, keeping 836473 word types\n",
      "2016-12-16 08:47:33,356 : INFO : PROGRESS: at sentence #2380000, processed 13602837 words, keeping 837674 word types\n",
      "2016-12-16 08:47:33,404 : INFO : PROGRESS: at sentence #2390000, processed 13685440 words, keeping 838218 word types\n",
      "2016-12-16 08:47:33,444 : INFO : PROGRESS: at sentence #2400000, processed 13746418 words, keeping 840668 word types\n",
      "2016-12-16 08:47:33,490 : INFO : PROGRESS: at sentence #2410000, processed 13799850 words, keeping 843277 word types\n",
      "2016-12-16 08:47:33,525 : INFO : PROGRESS: at sentence #2420000, processed 13855361 words, keeping 844151 word types\n",
      "2016-12-16 08:47:33,563 : INFO : PROGRESS: at sentence #2430000, processed 13912411 words, keeping 844712 word types\n",
      "2016-12-16 08:47:33,603 : INFO : PROGRESS: at sentence #2440000, processed 13975929 words, keeping 848109 word types\n",
      "2016-12-16 08:47:33,647 : INFO : PROGRESS: at sentence #2450000, processed 14039529 words, keeping 853297 word types\n",
      "2016-12-16 08:47:33,683 : INFO : PROGRESS: at sentence #2460000, processed 14107070 words, keeping 855020 word types\n",
      "2016-12-16 08:47:33,720 : INFO : PROGRESS: at sentence #2470000, processed 14160525 words, keeping 857037 word types\n",
      "2016-12-16 08:47:33,762 : INFO : PROGRESS: at sentence #2480000, processed 14227087 words, keeping 858463 word types\n",
      "2016-12-16 08:47:33,799 : INFO : PROGRESS: at sentence #2490000, processed 14287342 words, keeping 859932 word types\n",
      "2016-12-16 08:47:33,834 : INFO : PROGRESS: at sentence #2500000, processed 14336715 words, keeping 861912 word types\n",
      "2016-12-16 08:47:33,877 : INFO : PROGRESS: at sentence #2510000, processed 14391605 words, keeping 863081 word types\n",
      "2016-12-16 08:47:33,919 : INFO : PROGRESS: at sentence #2520000, processed 14447532 words, keeping 864686 word types\n",
      "2016-12-16 08:47:33,958 : INFO : PROGRESS: at sentence #2530000, processed 14511300 words, keeping 865043 word types\n",
      "2016-12-16 08:47:33,998 : INFO : PROGRESS: at sentence #2540000, processed 14567185 words, keeping 865565 word types\n",
      "2016-12-16 08:47:34,033 : INFO : PROGRESS: at sentence #2550000, processed 14617035 words, keeping 865687 word types\n",
      "2016-12-16 08:47:34,068 : INFO : PROGRESS: at sentence #2560000, processed 14671098 words, keeping 866029 word types\n",
      "2016-12-16 08:47:34,108 : INFO : PROGRESS: at sentence #2570000, processed 14728025 words, keeping 867210 word types\n",
      "2016-12-16 08:47:34,146 : INFO : PROGRESS: at sentence #2580000, processed 14780581 words, keeping 868687 word types\n",
      "2016-12-16 08:47:34,185 : INFO : PROGRESS: at sentence #2590000, processed 14837604 words, keeping 869978 word types\n",
      "2016-12-16 08:47:34,224 : INFO : PROGRESS: at sentence #2600000, processed 14891992 words, keeping 871839 word types\n",
      "2016-12-16 08:47:34,258 : INFO : PROGRESS: at sentence #2610000, processed 14937453 words, keeping 874401 word types\n",
      "2016-12-16 08:47:34,299 : INFO : PROGRESS: at sentence #2620000, processed 14996991 words, keeping 875107 word types\n",
      "2016-12-16 08:47:34,344 : INFO : PROGRESS: at sentence #2630000, processed 15054607 words, keeping 879572 word types\n",
      "2016-12-16 08:47:34,388 : INFO : PROGRESS: at sentence #2640000, processed 15110372 words, keeping 883736 word types\n",
      "2016-12-16 08:47:34,429 : INFO : PROGRESS: at sentence #2650000, processed 15167749 words, keeping 885727 word types\n",
      "2016-12-16 08:47:34,469 : INFO : PROGRESS: at sentence #2660000, processed 15228524 words, keeping 890114 word types\n",
      "2016-12-16 08:47:34,505 : INFO : PROGRESS: at sentence #2670000, processed 15288579 words, keeping 891050 word types\n",
      "2016-12-16 08:47:34,546 : INFO : PROGRESS: at sentence #2680000, processed 15345235 words, keeping 891961 word types\n",
      "2016-12-16 08:47:34,587 : INFO : PROGRESS: at sentence #2690000, processed 15408508 words, keeping 893888 word types\n",
      "2016-12-16 08:47:34,630 : INFO : PROGRESS: at sentence #2700000, processed 15470808 words, keeping 895994 word types\n",
      "2016-12-16 08:47:34,664 : INFO : PROGRESS: at sentence #2710000, processed 15529504 words, keeping 896461 word types\n",
      "2016-12-16 08:47:34,700 : INFO : PROGRESS: at sentence #2720000, processed 15593355 words, keeping 896882 word types\n",
      "2016-12-16 08:47:34,737 : INFO : PROGRESS: at sentence #2730000, processed 15650895 words, keeping 898701 word types\n",
      "2016-12-16 08:47:34,778 : INFO : PROGRESS: at sentence #2740000, processed 15704172 words, keeping 904007 word types\n",
      "2016-12-16 08:47:34,815 : INFO : PROGRESS: at sentence #2750000, processed 15747677 words, keeping 906222 word types\n",
      "2016-12-16 08:47:34,854 : INFO : PROGRESS: at sentence #2760000, processed 15801621 words, keeping 908026 word types\n",
      "2016-12-16 08:47:34,888 : INFO : PROGRESS: at sentence #2770000, processed 15857367 words, keeping 908572 word types\n",
      "2016-12-16 08:47:34,937 : INFO : PROGRESS: at sentence #2780000, processed 15926906 words, keeping 910825 word types\n",
      "2016-12-16 08:47:34,982 : INFO : PROGRESS: at sentence #2790000, processed 15988913 words, keeping 912205 word types\n",
      "2016-12-16 08:47:35,019 : INFO : PROGRESS: at sentence #2800000, processed 16044126 words, keeping 913049 word types\n",
      "2016-12-16 08:47:35,059 : INFO : PROGRESS: at sentence #2810000, processed 16097369 words, keeping 913887 word types\n",
      "2016-12-16 08:47:35,095 : INFO : PROGRESS: at sentence #2820000, processed 16146155 words, keeping 914962 word types\n",
      "2016-12-16 08:47:35,131 : INFO : PROGRESS: at sentence #2830000, processed 16201528 words, keeping 915991 word types\n",
      "2016-12-16 08:47:35,169 : INFO : PROGRESS: at sentence #2840000, processed 16250118 words, keeping 916966 word types\n",
      "2016-12-16 08:47:35,206 : INFO : PROGRESS: at sentence #2850000, processed 16306369 words, keeping 917523 word types\n",
      "2016-12-16 08:47:35,241 : INFO : PROGRESS: at sentence #2860000, processed 16354818 words, keeping 918422 word types\n",
      "2016-12-16 08:47:35,283 : INFO : PROGRESS: at sentence #2870000, processed 16409293 words, keeping 922758 word types\n",
      "2016-12-16 08:47:35,318 : INFO : PROGRESS: at sentence #2880000, processed 16486598 words, keeping 922804 word types\n",
      "2016-12-16 08:47:35,355 : INFO : PROGRESS: at sentence #2890000, processed 16558681 words, keeping 922851 word types\n",
      "2016-12-16 08:47:35,395 : INFO : PROGRESS: at sentence #2900000, processed 16618211 words, keeping 923615 word types\n",
      "2016-12-16 08:47:35,432 : INFO : PROGRESS: at sentence #2910000, processed 16668481 words, keeping 924583 word types\n",
      "2016-12-16 08:47:35,473 : INFO : PROGRESS: at sentence #2920000, processed 16726912 words, keeping 926111 word types\n",
      "2016-12-16 08:47:35,513 : INFO : PROGRESS: at sentence #2930000, processed 16789217 words, keeping 927262 word types\n",
      "2016-12-16 08:47:35,555 : INFO : PROGRESS: at sentence #2940000, processed 16841937 words, keeping 932586 word types\n",
      "2016-12-16 08:47:35,594 : INFO : PROGRESS: at sentence #2950000, processed 16894123 words, keeping 936688 word types\n",
      "2016-12-16 08:47:35,637 : INFO : PROGRESS: at sentence #2960000, processed 16952517 words, keeping 940082 word types\n",
      "2016-12-16 08:47:35,679 : INFO : PROGRESS: at sentence #2970000, processed 17017113 words, keeping 946373 word types\n",
      "2016-12-16 08:47:35,718 : INFO : PROGRESS: at sentence #2980000, processed 17073559 words, keeping 947204 word types\n",
      "2016-12-16 08:47:35,762 : INFO : PROGRESS: at sentence #2990000, processed 17131177 words, keeping 948399 word types\n",
      "2016-12-16 08:47:35,801 : INFO : PROGRESS: at sentence #3000000, processed 17184797 words, keeping 949822 word types\n",
      "2016-12-16 08:47:35,835 : INFO : PROGRESS: at sentence #3010000, processed 17247489 words, keeping 950289 word types\n",
      "2016-12-16 08:47:35,871 : INFO : PROGRESS: at sentence #3020000, processed 17299781 words, keeping 950518 word types\n",
      "2016-12-16 08:47:35,902 : INFO : collected 950959 word types from a corpus of 17343215 raw words and 3027403 sentences\n",
      "2016-12-16 08:47:35,903 : INFO : Loading a fresh vocabulary\n",
      "2016-12-16 08:47:37,952 : INFO : min_count=5 retains 416167 unique words (43% of original 950959, drops 534792)\n",
      "2016-12-16 08:47:37,953 : INFO : min_count=5 leaves 16334118 word corpus (94% of original 17343215, drops 1009097)\n",
      "2016-12-16 08:47:38,840 : INFO : deleting the raw counts dictionary of 950959 items\n",
      "2016-12-16 08:47:38,878 : INFO : sample=0.001 downsamples 1 most-common words\n",
      "2016-12-16 08:47:38,878 : INFO : downsampling leaves estimated 15679721 word corpus (96.0% of prior 16334118)\n",
      "2016-12-16 08:47:38,879 : INFO : estimated required memory for 416167 words and 200 dimensions: 873950700 bytes\n",
      "2016-12-16 08:47:40,294 : INFO : resetting layer weights\n",
      "2016-12-16 08:47:44,925 : INFO : training model with 3 workers on 416167 vocabulary and 200 features, using sg=0 hs=0 sample=0.001 negative=5 window=5\n",
      "2016-12-16 08:47:44,925 : INFO : expecting 3027403 sentences, matching count from corpus used for vocabulary survey\n",
      "2016-12-16 08:47:45,943 : INFO : PROGRESS: at 0.78% examples, 645224 words/s, in_qsize 6, out_qsize 0\n",
      "2016-12-16 08:47:46,943 : INFO : PROGRESS: at 1.99% examples, 786753 words/s, in_qsize 5, out_qsize 0\n",
      "2016-12-16 08:47:47,944 : INFO : PROGRESS: at 3.17% examples, 829279 words/s, in_qsize 5, out_qsize 0\n",
      "2016-12-16 08:47:48,947 : INFO : PROGRESS: at 4.30% examples, 848743 words/s, in_qsize 6, out_qsize 0\n",
      "2016-12-16 08:47:49,952 : INFO : PROGRESS: at 5.50% examples, 863663 words/s, in_qsize 5, out_qsize 0\n",
      "2016-12-16 08:47:50,953 : INFO : PROGRESS: at 6.65% examples, 871154 words/s, in_qsize 5, out_qsize 0\n",
      "2016-12-16 08:47:51,958 : INFO : PROGRESS: at 7.80% examples, 872362 words/s, in_qsize 6, out_qsize 0\n",
      "2016-12-16 08:47:52,967 : INFO : PROGRESS: at 8.99% examples, 872529 words/s, in_qsize 6, out_qsize 0\n",
      "2016-12-16 08:47:53,971 : INFO : PROGRESS: at 10.19% examples, 878095 words/s, in_qsize 5, out_qsize 0\n",
      "2016-12-16 08:47:54,981 : INFO : PROGRESS: at 11.30% examples, 881186 words/s, in_qsize 5, out_qsize 0\n",
      "2016-12-16 08:47:55,991 : INFO : PROGRESS: at 12.51% examples, 884883 words/s, in_qsize 6, out_qsize 0\n",
      "2016-12-16 08:47:57,004 : INFO : PROGRESS: at 13.62% examples, 884746 words/s, in_qsize 5, out_qsize 0\n",
      "2016-12-16 08:47:58,007 : INFO : PROGRESS: at 14.83% examples, 885674 words/s, in_qsize 6, out_qsize 0\n",
      "2016-12-16 08:47:59,016 : INFO : PROGRESS: at 15.97% examples, 887005 words/s, in_qsize 5, out_qsize 0\n",
      "2016-12-16 08:48:00,032 : INFO : PROGRESS: at 17.11% examples, 888233 words/s, in_qsize 6, out_qsize 0\n",
      "2016-12-16 08:48:01,043 : INFO : PROGRESS: at 18.29% examples, 888674 words/s, in_qsize 5, out_qsize 0\n",
      "2016-12-16 08:48:02,054 : INFO : PROGRESS: at 19.46% examples, 890991 words/s, in_qsize 6, out_qsize 0\n",
      "2016-12-16 08:48:03,056 : INFO : PROGRESS: at 20.60% examples, 893549 words/s, in_qsize 5, out_qsize 0\n",
      "2016-12-16 08:48:04,064 : INFO : PROGRESS: at 21.83% examples, 895358 words/s, in_qsize 6, out_qsize 0\n",
      "2016-12-16 08:48:05,074 : INFO : PROGRESS: at 23.04% examples, 896491 words/s, in_qsize 6, out_qsize 0\n",
      "2016-12-16 08:48:06,077 : INFO : PROGRESS: at 24.16% examples, 896942 words/s, in_qsize 6, out_qsize 0\n",
      "2016-12-16 08:48:07,083 : INFO : PROGRESS: at 25.36% examples, 898130 words/s, in_qsize 5, out_qsize 0\n",
      "2016-12-16 08:48:08,086 : INFO : PROGRESS: at 26.50% examples, 898473 words/s, in_qsize 6, out_qsize 0\n",
      "2016-12-16 08:48:09,096 : INFO : PROGRESS: at 27.67% examples, 898474 words/s, in_qsize 6, out_qsize 0\n",
      "2016-12-16 08:48:10,098 : INFO : PROGRESS: at 28.88% examples, 897932 words/s, in_qsize 5, out_qsize 0\n",
      "2016-12-16 08:48:11,104 : INFO : PROGRESS: at 30.08% examples, 898929 words/s, in_qsize 6, out_qsize 0\n",
      "2016-12-16 08:48:12,114 : INFO : PROGRESS: at 31.18% examples, 899362 words/s, in_qsize 5, out_qsize 0\n",
      "2016-12-16 08:48:13,117 : INFO : PROGRESS: at 32.39% examples, 900020 words/s, in_qsize 6, out_qsize 0\n",
      "2016-12-16 08:48:14,122 : INFO : PROGRESS: at 33.47% examples, 898782 words/s, in_qsize 6, out_qsize 0\n",
      "2016-12-16 08:48:15,125 : INFO : PROGRESS: at 34.53% examples, 895678 words/s, in_qsize 6, out_qsize 0\n",
      "2016-12-16 08:48:16,137 : INFO : PROGRESS: at 35.70% examples, 895195 words/s, in_qsize 6, out_qsize 0\n",
      "2016-12-16 08:48:17,139 : INFO : PROGRESS: at 36.79% examples, 895706 words/s, in_qsize 5, out_qsize 0\n",
      "2016-12-16 08:48:18,139 : INFO : PROGRESS: at 37.92% examples, 895227 words/s, in_qsize 6, out_qsize 0\n",
      "2016-12-16 08:48:19,139 : INFO : PROGRESS: at 39.10% examples, 896406 words/s, in_qsize 5, out_qsize 0\n",
      "2016-12-16 08:48:20,150 : INFO : PROGRESS: at 40.25% examples, 896504 words/s, in_qsize 6, out_qsize 0\n",
      "2016-12-16 08:48:21,157 : INFO : PROGRESS: at 41.44% examples, 897330 words/s, in_qsize 6, out_qsize 0\n",
      "2016-12-16 08:48:22,166 : INFO : PROGRESS: at 42.62% examples, 897844 words/s, in_qsize 6, out_qsize 0\n",
      "2016-12-16 08:48:23,169 : INFO : PROGRESS: at 43.76% examples, 897471 words/s, in_qsize 5, out_qsize 0\n",
      "2016-12-16 08:48:24,171 : INFO : PROGRESS: at 44.96% examples, 897762 words/s, in_qsize 6, out_qsize 0\n",
      "2016-12-16 08:48:25,179 : INFO : PROGRESS: at 46.05% examples, 897609 words/s, in_qsize 5, out_qsize 0\n",
      "2016-12-16 08:48:26,186 : INFO : PROGRESS: at 47.21% examples, 897810 words/s, in_qsize 6, out_qsize 0\n",
      "2016-12-16 08:48:27,192 : INFO : PROGRESS: at 48.41% examples, 897510 words/s, in_qsize 5, out_qsize 0\n",
      "2016-12-16 08:48:28,196 : INFO : PROGRESS: at 49.60% examples, 897329 words/s, in_qsize 5, out_qsize 0\n",
      "2016-12-16 08:48:29,197 : INFO : PROGRESS: at 50.74% examples, 898173 words/s, in_qsize 6, out_qsize 0\n",
      "2016-12-16 08:48:30,199 : INFO : PROGRESS: at 51.86% examples, 898313 words/s, in_qsize 6, out_qsize 0\n",
      "2016-12-16 08:48:31,206 : INFO : PROGRESS: at 53.06% examples, 898947 words/s, in_qsize 5, out_qsize 0\n",
      "2016-12-16 08:48:32,207 : INFO : PROGRESS: at 54.20% examples, 898442 words/s, in_qsize 5, out_qsize 0\n",
      "2016-12-16 08:48:33,212 : INFO : PROGRESS: at 55.42% examples, 898509 words/s, in_qsize 5, out_qsize 0\n",
      "2016-12-16 08:48:34,215 : INFO : PROGRESS: at 56.50% examples, 898746 words/s, in_qsize 5, out_qsize 0\n",
      "2016-12-16 08:48:35,231 : INFO : PROGRESS: at 57.67% examples, 898527 words/s, in_qsize 6, out_qsize 0\n",
      "2016-12-16 08:48:36,237 : INFO : PROGRESS: at 58.86% examples, 899033 words/s, in_qsize 6, out_qsize 0\n",
      "2016-12-16 08:48:37,240 : INFO : PROGRESS: at 59.99% examples, 899211 words/s, in_qsize 6, out_qsize 0\n",
      "2016-12-16 08:48:38,248 : INFO : PROGRESS: at 61.18% examples, 900159 words/s, in_qsize 5, out_qsize 0\n",
      "2016-12-16 08:48:39,253 : INFO : PROGRESS: at 62.37% examples, 900453 words/s, in_qsize 5, out_qsize 0\n",
      "2016-12-16 08:48:40,257 : INFO : PROGRESS: at 63.54% examples, 900905 words/s, in_qsize 5, out_qsize 0\n",
      "2016-12-16 08:48:41,270 : INFO : PROGRESS: at 64.50% examples, 897756 words/s, in_qsize 5, out_qsize 0\n",
      "2016-12-16 08:48:42,272 : INFO : PROGRESS: at 65.44% examples, 895015 words/s, in_qsize 6, out_qsize 0\n",
      "2016-12-16 08:48:43,284 : INFO : PROGRESS: at 66.39% examples, 892749 words/s, in_qsize 5, out_qsize 0\n",
      "2016-12-16 08:48:44,290 : INFO : PROGRESS: at 67.38% examples, 890290 words/s, in_qsize 6, out_qsize 0\n",
      "2016-12-16 08:48:45,293 : INFO : PROGRESS: at 68.49% examples, 889043 words/s, in_qsize 5, out_qsize 0\n",
      "2016-12-16 08:48:46,297 : INFO : PROGRESS: at 69.65% examples, 888811 words/s, in_qsize 5, out_qsize 0\n",
      "2016-12-16 08:48:47,304 : INFO : PROGRESS: at 70.74% examples, 888847 words/s, in_qsize 5, out_qsize 0\n",
      "2016-12-16 08:48:48,320 : INFO : PROGRESS: at 71.84% examples, 888603 words/s, in_qsize 5, out_qsize 0\n",
      "2016-12-16 08:48:49,321 : INFO : PROGRESS: at 73.01% examples, 888836 words/s, in_qsize 6, out_qsize 0\n",
      "2016-12-16 08:48:50,330 : INFO : PROGRESS: at 74.09% examples, 887865 words/s, in_qsize 6, out_qsize 0\n",
      "2016-12-16 08:48:51,336 : INFO : PROGRESS: at 75.26% examples, 887666 words/s, in_qsize 5, out_qsize 0\n",
      "2016-12-16 08:48:52,343 : INFO : PROGRESS: at 76.35% examples, 887803 words/s, in_qsize 6, out_qsize 0\n",
      "2016-12-16 08:48:53,348 : INFO : PROGRESS: at 77.50% examples, 887714 words/s, in_qsize 5, out_qsize 0\n",
      "2016-12-16 08:48:54,358 : INFO : PROGRESS: at 78.65% examples, 887945 words/s, in_qsize 6, out_qsize 0\n",
      "2016-12-16 08:48:55,363 : INFO : PROGRESS: at 79.84% examples, 888550 words/s, in_qsize 5, out_qsize 0\n",
      "2016-12-16 08:48:56,373 : INFO : PROGRESS: at 81.01% examples, 889332 words/s, in_qsize 6, out_qsize 0\n",
      "2016-12-16 08:48:57,386 : INFO : PROGRESS: at 82.16% examples, 889390 words/s, in_qsize 5, out_qsize 0\n",
      "2016-12-16 08:48:58,391 : INFO : PROGRESS: at 83.35% examples, 889959 words/s, in_qsize 4, out_qsize 0\n",
      "2016-12-16 08:48:59,396 : INFO : PROGRESS: at 84.52% examples, 890029 words/s, in_qsize 5, out_qsize 0\n",
      "2016-12-16 08:49:00,405 : INFO : PROGRESS: at 85.67% examples, 890272 words/s, in_qsize 5, out_qsize 0\n",
      "2016-12-16 08:49:01,414 : INFO : PROGRESS: at 86.83% examples, 890349 words/s, in_qsize 5, out_qsize 0\n",
      "2016-12-16 08:49:02,423 : INFO : PROGRESS: at 88.01% examples, 890286 words/s, in_qsize 6, out_qsize 0\n",
      "2016-12-16 08:49:03,427 : INFO : PROGRESS: at 89.21% examples, 890308 words/s, in_qsize 6, out_qsize 0\n",
      "2016-12-16 08:49:04,434 : INFO : PROGRESS: at 90.38% examples, 890690 words/s, in_qsize 5, out_qsize 0\n",
      "2016-12-16 08:49:05,441 : INFO : PROGRESS: at 91.48% examples, 890825 words/s, in_qsize 6, out_qsize 0\n",
      "2016-12-16 08:49:06,450 : INFO : PROGRESS: at 92.67% examples, 891023 words/s, in_qsize 6, out_qsize 0\n",
      "2016-12-16 08:49:07,451 : INFO : PROGRESS: at 93.78% examples, 890930 words/s, in_qsize 6, out_qsize 0\n",
      "2016-12-16 08:49:08,458 : INFO : PROGRESS: at 94.99% examples, 890773 words/s, in_qsize 5, out_qsize 0\n",
      "2016-12-16 08:49:09,463 : INFO : PROGRESS: at 96.08% examples, 890933 words/s, in_qsize 6, out_qsize 0\n",
      "2016-12-16 08:49:10,470 : INFO : PROGRESS: at 97.25% examples, 891108 words/s, in_qsize 5, out_qsize 0\n",
      "2016-12-16 08:49:11,476 : INFO : PROGRESS: at 98.35% examples, 890825 words/s, in_qsize 5, out_qsize 0\n",
      "2016-12-16 08:49:12,487 : INFO : PROGRESS: at 99.53% examples, 891136 words/s, in_qsize 5, out_qsize 0\n",
      "2016-12-16 08:49:12,876 : INFO : worker thread finished; awaiting finish of 2 more threads\n",
      "2016-12-16 08:49:12,879 : INFO : worker thread finished; awaiting finish of 1 more threads\n",
      "2016-12-16 08:49:12,887 : INFO : worker thread finished; awaiting finish of 0 more threads\n",
      "2016-12-16 08:49:12,887 : INFO : training on 86716075 raw words (78397703 effective words) took 88.0s, 891363 effective words/s\n"
     ]
    }
   ],
   "source": [
    "# train word2vec on the two sentences\n",
    "model = gensim.models.Word2Vec(filteredSentencesList, size=200)"
   ]
  },
  {
   "cell_type": "code",
   "execution_count": 8,
   "metadata": {
    "collapsed": false
   },
   "outputs": [],
   "source": [
    "trackIdName = trackIdName.rename(columns = {0:'track_id', 1: 'track_name'})"
   ]
  },
  {
   "cell_type": "code",
   "execution_count": 12,
   "metadata": {
    "collapsed": false
   },
   "outputs": [],
   "source": [
    "trackIds = list(trackIdName.loc[trackIdName['track_name'] == 'Neighborhood #3 (Power Out)']['track_id'])"
   ]
  },
  {
   "cell_type": "code",
   "execution_count": 15,
   "metadata": {
    "collapsed": false
   },
   "outputs": [
    {
     "data": {
      "text/plain": [
       "['9a6f09d5-b0b0-4ce7-8b83-c354bcbd347d',\n",
       " '07689d4c-540d-4518-9a41-52931b7f061f']"
      ]
     },
     "execution_count": 15,
     "metadata": {},
     "output_type": "execute_result"
    }
   ],
   "source": [
    "trackIds"
   ]
  },
  {
   "cell_type": "code",
   "execution_count": 16,
   "metadata": {
    "collapsed": false
   },
   "outputs": [],
   "source": [
    "similar_items = model.most_similar('07689d4c-540d-4518-9a41-52931b7f061f')"
   ]
  },
  {
   "cell_type": "code",
   "execution_count": 17,
   "metadata": {
    "collapsed": false
   },
   "outputs": [
    {
     "data": {
      "text/plain": [
       "[('798112f7-7acd-4a2d-9436-baf93a7574f3', 0.9582799673080444),\n",
       " ('5551e780-656c-410f-91ff-03aed3af9b7a', 0.9525673389434814),\n",
       " ('d2e67c9e-3600-450c-aa69-cab51ff0c990', 0.941468358039856),\n",
       " ('e6d80ec5-85b3-4900-8e52-f83e9bf16852', 0.9325342178344727),\n",
       " ('fbf3c1c1-b5cf-41a1-8818-ccb3c7e231be', 0.9318362474441528),\n",
       " ('a1a4b6c4-d1c5-4a26-b155-75052d407c83', 0.9315561056137085),\n",
       " ('31973462-9cc7-4adb-a933-2442e625fbca', 0.9274295568466187),\n",
       " ('f874c752-65bc-4d50-ac7e-932243ae9f02', 0.9087802171707153),\n",
       " ('e58be0e6-3aec-4ee3-a3ee-d93073d0597a', 0.8932747840881348),\n",
       " ('1aa8c28b-728c-48e5-a0e3-ce511158a8a6', 0.8917827606201172)]"
      ]
     },
     "execution_count": 17,
     "metadata": {},
     "output_type": "execute_result"
    }
   ],
   "source": [
    "similar_items"
   ]
  },
  {
   "cell_type": "code",
   "execution_count": 18,
   "metadata": {
    "collapsed": true
   },
   "outputs": [],
   "source": [
    "similar_items_list = [x[0] for x in similar_items]"
   ]
  },
  {
   "cell_type": "code",
   "execution_count": 19,
   "metadata": {
    "collapsed": false
   },
   "outputs": [],
   "source": [
    "similar_items_list_df = pd.DataFrame(similar_items_list)"
   ]
  },
  {
   "cell_type": "code",
   "execution_count": 20,
   "metadata": {
    "collapsed": false
   },
   "outputs": [],
   "source": [
    "similar_items_list_df = similar_items_list_df.rename(columns={0:'track_id'})"
   ]
  },
  {
   "cell_type": "code",
   "execution_count": 21,
   "metadata": {
    "collapsed": false
   },
   "outputs": [
    {
     "data": {
      "text/html": [
       "<div>\n",
       "<table border=\"1\" class=\"dataframe\">\n",
       "  <thead>\n",
       "    <tr style=\"text-align: right;\">\n",
       "      <th></th>\n",
       "      <th>track_id</th>\n",
       "    </tr>\n",
       "  </thead>\n",
       "  <tbody>\n",
       "    <tr>\n",
       "      <th>0</th>\n",
       "      <td>798112f7-7acd-4a2d-9436-baf93a7574f3</td>\n",
       "    </tr>\n",
       "    <tr>\n",
       "      <th>1</th>\n",
       "      <td>5551e780-656c-410f-91ff-03aed3af9b7a</td>\n",
       "    </tr>\n",
       "    <tr>\n",
       "      <th>2</th>\n",
       "      <td>d2e67c9e-3600-450c-aa69-cab51ff0c990</td>\n",
       "    </tr>\n",
       "    <tr>\n",
       "      <th>3</th>\n",
       "      <td>e6d80ec5-85b3-4900-8e52-f83e9bf16852</td>\n",
       "    </tr>\n",
       "    <tr>\n",
       "      <th>4</th>\n",
       "      <td>fbf3c1c1-b5cf-41a1-8818-ccb3c7e231be</td>\n",
       "    </tr>\n",
       "  </tbody>\n",
       "</table>\n",
       "</div>"
      ],
      "text/plain": [
       "                               track_id\n",
       "0  798112f7-7acd-4a2d-9436-baf93a7574f3\n",
       "1  5551e780-656c-410f-91ff-03aed3af9b7a\n",
       "2  d2e67c9e-3600-450c-aa69-cab51ff0c990\n",
       "3  e6d80ec5-85b3-4900-8e52-f83e9bf16852\n",
       "4  fbf3c1c1-b5cf-41a1-8818-ccb3c7e231be"
      ]
     },
     "execution_count": 21,
     "metadata": {},
     "output_type": "execute_result"
    }
   ],
   "source": [
    "similar_items_list_df.head(5)"
   ]
  },
  {
   "cell_type": "code",
   "execution_count": 22,
   "metadata": {
    "collapsed": false
   },
   "outputs": [],
   "source": [
    "similar_items_list_name = pd.merge(similar_items_list_df, trackIdName, how='left', left_on='track_id', right_on='track_id')"
   ]
  },
  {
   "cell_type": "code",
   "execution_count": 23,
   "metadata": {
    "collapsed": false
   },
   "outputs": [
    {
     "data": {
      "text/html": [
       "<div>\n",
       "<table border=\"1\" class=\"dataframe\">\n",
       "  <thead>\n",
       "    <tr style=\"text-align: right;\">\n",
       "      <th></th>\n",
       "      <th>track_id</th>\n",
       "      <th>track_name</th>\n",
       "    </tr>\n",
       "  </thead>\n",
       "  <tbody>\n",
       "    <tr>\n",
       "      <th>0</th>\n",
       "      <td>798112f7-7acd-4a2d-9436-baf93a7574f3</td>\n",
       "      <td>Neighborhood #2 (Laika)</td>\n",
       "    </tr>\n",
       "    <tr>\n",
       "      <th>1</th>\n",
       "      <td>5551e780-656c-410f-91ff-03aed3af9b7a</td>\n",
       "      <td>Crown Of Love</td>\n",
       "    </tr>\n",
       "    <tr>\n",
       "      <th>2</th>\n",
       "      <td>d2e67c9e-3600-450c-aa69-cab51ff0c990</td>\n",
       "      <td>Une Année Sans Lumière</td>\n",
       "    </tr>\n",
       "    <tr>\n",
       "      <th>3</th>\n",
       "      <td>e6d80ec5-85b3-4900-8e52-f83e9bf16852</td>\n",
       "      <td>Neighborhood #1 (Tunnels)</td>\n",
       "    </tr>\n",
       "    <tr>\n",
       "      <th>4</th>\n",
       "      <td>fbf3c1c1-b5cf-41a1-8818-ccb3c7e231be</td>\n",
       "      <td>Neighborhood #4 (7 Kettles)</td>\n",
       "    </tr>\n",
       "    <tr>\n",
       "      <th>5</th>\n",
       "      <td>a1a4b6c4-d1c5-4a26-b155-75052d407c83</td>\n",
       "      <td>Wake Up</td>\n",
       "    </tr>\n",
       "    <tr>\n",
       "      <th>6</th>\n",
       "      <td>31973462-9cc7-4adb-a933-2442e625fbca</td>\n",
       "      <td>Haiti</td>\n",
       "    </tr>\n",
       "    <tr>\n",
       "      <th>7</th>\n",
       "      <td>f874c752-65bc-4d50-ac7e-932243ae9f02</td>\n",
       "      <td>Rebellion (Lies)</td>\n",
       "    </tr>\n",
       "    <tr>\n",
       "      <th>8</th>\n",
       "      <td>e58be0e6-3aec-4ee3-a3ee-d93073d0597a</td>\n",
       "      <td>Neighborhood #2 (Laïka)</td>\n",
       "    </tr>\n",
       "    <tr>\n",
       "      <th>9</th>\n",
       "      <td>1aa8c28b-728c-48e5-a0e3-ce511158a8a6</td>\n",
       "      <td>In The Back Seat</td>\n",
       "    </tr>\n",
       "  </tbody>\n",
       "</table>\n",
       "</div>"
      ],
      "text/plain": [
       "                               track_id                   track_name\n",
       "0  798112f7-7acd-4a2d-9436-baf93a7574f3      Neighborhood #2 (Laika)\n",
       "1  5551e780-656c-410f-91ff-03aed3af9b7a                Crown Of Love\n",
       "2  d2e67c9e-3600-450c-aa69-cab51ff0c990       Une Année Sans Lumière\n",
       "3  e6d80ec5-85b3-4900-8e52-f83e9bf16852    Neighborhood #1 (Tunnels)\n",
       "4  fbf3c1c1-b5cf-41a1-8818-ccb3c7e231be  Neighborhood #4 (7 Kettles)\n",
       "5  a1a4b6c4-d1c5-4a26-b155-75052d407c83                      Wake Up\n",
       "6  31973462-9cc7-4adb-a933-2442e625fbca                        Haiti\n",
       "7  f874c752-65bc-4d50-ac7e-932243ae9f02             Rebellion (Lies)\n",
       "8  e58be0e6-3aec-4ee3-a3ee-d93073d0597a      Neighborhood #2 (Laïka)\n",
       "9  1aa8c28b-728c-48e5-a0e3-ce511158a8a6             In The Back Seat"
      ]
     },
     "execution_count": 23,
     "metadata": {},
     "output_type": "execute_result"
    }
   ],
   "source": [
    "similar_items_list_name"
   ]
  },
  {
   "cell_type": "code",
   "execution_count": 3,
   "metadata": {
    "collapsed": false
   },
   "outputs": [
    {
     "name": "stderr",
     "output_type": "stream",
     "text": [
      "2016-12-16 14:57:15,777 : INFO : loading Word2Vec object from data/lastfm-dataset-1K/songsWord2Vec.csv\n"
     ]
    },
    {
     "ename": "UnpicklingError",
     "evalue": "could not find MARK",
     "output_type": "error",
     "traceback": [
      "\u001b[0;31m---------------------------------------------------------------------------\u001b[0m",
      "\u001b[0;31mUnpicklingError\u001b[0m                           Traceback (most recent call last)",
      "\u001b[0;32m<ipython-input-3-a30878fa6d75>\u001b[0m in \u001b[0;36m<module>\u001b[0;34m()\u001b[0m\n\u001b[0;32m----> 1\u001b[0;31m \u001b[0mmodel\u001b[0m \u001b[0;34m=\u001b[0m \u001b[0mgensim\u001b[0m\u001b[0;34m.\u001b[0m\u001b[0mmodels\u001b[0m\u001b[0;34m.\u001b[0m\u001b[0mWord2Vec\u001b[0m\u001b[0;34m.\u001b[0m\u001b[0mload\u001b[0m\u001b[0;34m(\u001b[0m\u001b[0mfname\u001b[0m\u001b[0;34m=\u001b[0m\u001b[0;34m'data/lastfm-dataset-1K/songsWord2Vec.csv'\u001b[0m\u001b[0;34m)\u001b[0m\u001b[0;34m\u001b[0m\u001b[0m\n\u001b[0m",
      "\u001b[0;32m/Users/mathurtx/tensorflow/lib/python2.7/site-packages/gensim/models/word2vec.pyc\u001b[0m in \u001b[0;36mload\u001b[0;34m(cls, *args, **kwargs)\u001b[0m\n\u001b[1;32m   1760\u001b[0m     \u001b[0;34m@\u001b[0m\u001b[0mclassmethod\u001b[0m\u001b[0;34m\u001b[0m\u001b[0m\n\u001b[1;32m   1761\u001b[0m     \u001b[0;32mdef\u001b[0m \u001b[0mload\u001b[0m\u001b[0;34m(\u001b[0m\u001b[0mcls\u001b[0m\u001b[0;34m,\u001b[0m \u001b[0;34m*\u001b[0m\u001b[0margs\u001b[0m\u001b[0;34m,\u001b[0m \u001b[0;34m**\u001b[0m\u001b[0mkwargs\u001b[0m\u001b[0;34m)\u001b[0m\u001b[0;34m:\u001b[0m\u001b[0;34m\u001b[0m\u001b[0m\n\u001b[0;32m-> 1762\u001b[0;31m         \u001b[0mmodel\u001b[0m \u001b[0;34m=\u001b[0m \u001b[0msuper\u001b[0m\u001b[0;34m(\u001b[0m\u001b[0mWord2Vec\u001b[0m\u001b[0;34m,\u001b[0m \u001b[0mcls\u001b[0m\u001b[0;34m)\u001b[0m\u001b[0;34m.\u001b[0m\u001b[0mload\u001b[0m\u001b[0;34m(\u001b[0m\u001b[0;34m*\u001b[0m\u001b[0margs\u001b[0m\u001b[0;34m,\u001b[0m \u001b[0;34m**\u001b[0m\u001b[0mkwargs\u001b[0m\u001b[0;34m)\u001b[0m\u001b[0;34m\u001b[0m\u001b[0m\n\u001b[0m\u001b[1;32m   1763\u001b[0m         \u001b[0;31m# update older models\u001b[0m\u001b[0;34m\u001b[0m\u001b[0;34m\u001b[0m\u001b[0m\n\u001b[1;32m   1764\u001b[0m         \u001b[0;32mif\u001b[0m \u001b[0mhasattr\u001b[0m\u001b[0;34m(\u001b[0m\u001b[0mmodel\u001b[0m\u001b[0;34m,\u001b[0m \u001b[0;34m'table'\u001b[0m\u001b[0;34m)\u001b[0m\u001b[0;34m:\u001b[0m\u001b[0;34m\u001b[0m\u001b[0m\n",
      "\u001b[0;32m/Users/mathurtx/tensorflow/lib/python2.7/site-packages/gensim/utils.pyc\u001b[0m in \u001b[0;36mload\u001b[0;34m(cls, fname, mmap)\u001b[0m\n\u001b[1;32m    246\u001b[0m         \u001b[0mcompress\u001b[0m\u001b[0;34m,\u001b[0m \u001b[0msubname\u001b[0m \u001b[0;34m=\u001b[0m \u001b[0mSaveLoad\u001b[0m\u001b[0;34m.\u001b[0m\u001b[0m_adapt_by_suffix\u001b[0m\u001b[0;34m(\u001b[0m\u001b[0mfname\u001b[0m\u001b[0;34m)\u001b[0m\u001b[0;34m\u001b[0m\u001b[0m\n\u001b[1;32m    247\u001b[0m \u001b[0;34m\u001b[0m\u001b[0m\n\u001b[0;32m--> 248\u001b[0;31m         \u001b[0mobj\u001b[0m \u001b[0;34m=\u001b[0m \u001b[0munpickle\u001b[0m\u001b[0;34m(\u001b[0m\u001b[0mfname\u001b[0m\u001b[0;34m)\u001b[0m\u001b[0;34m\u001b[0m\u001b[0m\n\u001b[0m\u001b[1;32m    249\u001b[0m         \u001b[0mobj\u001b[0m\u001b[0;34m.\u001b[0m\u001b[0m_load_specials\u001b[0m\u001b[0;34m(\u001b[0m\u001b[0mfname\u001b[0m\u001b[0;34m,\u001b[0m \u001b[0mmmap\u001b[0m\u001b[0;34m,\u001b[0m \u001b[0mcompress\u001b[0m\u001b[0;34m,\u001b[0m \u001b[0msubname\u001b[0m\u001b[0;34m)\u001b[0m\u001b[0;34m\u001b[0m\u001b[0m\n\u001b[1;32m    250\u001b[0m         \u001b[0mlogger\u001b[0m\u001b[0;34m.\u001b[0m\u001b[0minfo\u001b[0m\u001b[0;34m(\u001b[0m\u001b[0;34m\"loaded %s\"\u001b[0m\u001b[0;34m,\u001b[0m \u001b[0mfname\u001b[0m\u001b[0;34m)\u001b[0m\u001b[0;34m\u001b[0m\u001b[0m\n",
      "\u001b[0;32m/Users/mathurtx/tensorflow/lib/python2.7/site-packages/gensim/utils.pyc\u001b[0m in \u001b[0;36munpickle\u001b[0;34m(fname)\u001b[0m\n\u001b[1;32m    910\u001b[0m     \u001b[0;32mwith\u001b[0m \u001b[0msmart_open\u001b[0m\u001b[0;34m(\u001b[0m\u001b[0mfname\u001b[0m\u001b[0;34m)\u001b[0m \u001b[0;32mas\u001b[0m \u001b[0mf\u001b[0m\u001b[0;34m:\u001b[0m\u001b[0;34m\u001b[0m\u001b[0m\n\u001b[1;32m    911\u001b[0m         \u001b[0;31m# Because of loading from S3 load can't be used (missing readline in smart_open)\u001b[0m\u001b[0;34m\u001b[0m\u001b[0;34m\u001b[0m\u001b[0m\n\u001b[0;32m--> 912\u001b[0;31m         \u001b[0;32mreturn\u001b[0m \u001b[0m_pickle\u001b[0m\u001b[0;34m.\u001b[0m\u001b[0mloads\u001b[0m\u001b[0;34m(\u001b[0m\u001b[0mf\u001b[0m\u001b[0;34m.\u001b[0m\u001b[0mread\u001b[0m\u001b[0;34m(\u001b[0m\u001b[0;34m)\u001b[0m\u001b[0;34m)\u001b[0m\u001b[0;34m\u001b[0m\u001b[0m\n\u001b[0m\u001b[1;32m    913\u001b[0m \u001b[0;34m\u001b[0m\u001b[0m\n\u001b[1;32m    914\u001b[0m \u001b[0;34m\u001b[0m\u001b[0m\n",
      "\u001b[0;31mUnpicklingError\u001b[0m: could not find MARK"
     ]
    }
   ],
   "source": [
    "model = gensim.models.Word2Vec.load(fname='data/lastfm-dataset-1K/songsWord2Vec.csv')"
   ]
  },
  {
   "cell_type": "code",
   "execution_count": 8,
   "metadata": {
    "collapsed": false
   },
   "outputs": [
    {
     "name": "stderr",
     "output_type": "stream",
     "text": [
      "2016-12-16 07:24:55,255 : INFO : storing 416167x200 projection weights into data/lastfm-dataset-1K/songsWord2Vec.csv\n"
     ]
    }
   ],
   "source": [
    "model.save_word2vec_format(fname='data/lastfm-dataset-1K/songsWord2Vec.csv')"
   ]
  },
  {
   "cell_type": "code",
   "execution_count": null,
   "metadata": {
    "collapsed": true
   },
   "outputs": [],
   "source": []
  }
 ],
 "metadata": {
  "kernelspec": {
   "display_name": "Python 2",
   "language": "python",
   "name": "python2"
  },
  "language_info": {
   "codemirror_mode": {
    "name": "ipython",
    "version": 2
   },
   "file_extension": ".py",
   "mimetype": "text/x-python",
   "name": "python",
   "nbconvert_exporter": "python",
   "pygments_lexer": "ipython2",
   "version": "2.7.10"
  }
 },
 "nbformat": 4,
 "nbformat_minor": 1
}
